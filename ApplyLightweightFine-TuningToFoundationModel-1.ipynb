{
 "cells": [
  {
   "cell_type": "markdown",
   "id": "863588ff-e992-4d09-a27e-7eac0b780e52",
   "metadata": {},
   "source": [
    "\n",
    "## Step 1: Loading and Evaluating a Foundation Model\n"
   ]
  },
  {
   "cell_type": "code",
   "execution_count": 14,
   "id": "4343d800-e61e-4824-ac33-24c86fbb6dd5",
   "metadata": {},
   "outputs": [
    {
     "name": "stdout",
     "output_type": "stream",
     "text": [
      "Dataset({\n",
      "    features: ['sms', 'label'],\n",
      "    num_rows: 111\n",
      "})\n",
      "Dataset({\n",
      "    features: ['sms', 'label'],\n",
      "    num_rows: 56\n",
      "})\n"
     ]
    }
   ],
   "source": [
    "# Step 1.1: Load the sms_spam dataset\n",
    "\n",
    "from datasets import load_dataset\n",
    "\n",
    "# NOTE: to use bigger dataset, just change DATA_SET_RATE to a bigger number, max is 1.0\n",
    "DATA_SET_RATE = 0.02\n",
    "\n",
    "# split the datasets\n",
    "dataset = load_dataset(\"sms_spam\", split=\"train\").train_test_split(\n",
    "    train_size=DATA_SET_RATE, test_size=DATA_SET_RATE/2.0, shuffle=True, seed=23\n",
    ")\n",
    "\n",
    "splits = [\"train\", \"test\"]\n",
    "\n",
    "# View the dataset characteristics\n",
    "print(dataset[\"train\"])\n",
    "print(dataset[\"test\"])"
   ]
  },
  {
   "cell_type": "code",
   "execution_count": 15,
   "id": "9517d108-6687-4f32-a925-4c3facdbe692",
   "metadata": {},
   "outputs": [
    {
     "name": "stdout",
     "output_type": "stream",
     "text": [
      "{'sms': \"I'm so in love with you. I'm excited each day i spend with you. You make me so happy.\\n\", 'label': 0}\n",
      "{'sms': 'Yup... Hey then one day on fri we can ask miwa and jiayin take leave go karaoke \\n', 'label': 0}\n"
     ]
    }
   ],
   "source": [
    "# Inspect the first example from both test and train\n",
    "print(dataset[\"train\"][0])\n",
    "print(dataset[\"test\"][0])"
   ]
  },
  {
   "cell_type": "code",
   "execution_count": 16,
   "id": "2cda4ac0-479e-478d-8327-e0945e61c047",
   "metadata": {},
   "outputs": [
    {
     "data": {
      "application/vnd.jupyter.widget-view+json": {
       "model_id": "ef1a9078ab424cf781ebcb9a3d391d49",
       "version_major": 2,
       "version_minor": 0
      },
      "text/plain": [
       "Map:   0%|          | 0/111 [00:00<?, ? examples/s]"
      ]
     },
     "metadata": {},
     "output_type": "display_data"
    },
    {
     "data": {
      "application/vnd.jupyter.widget-view+json": {
       "model_id": "8081eec5b70f4a7db17803e2a8818629",
       "version_major": 2,
       "version_minor": 0
      },
      "text/plain": [
       "Map:   0%|          | 0/56 [00:00<?, ? examples/s]"
      ]
     },
     "metadata": {},
     "output_type": "display_data"
    },
    {
     "name": "stdout",
     "output_type": "stream",
     "text": [
      "Dataset({\n",
      "    features: ['sms', 'label', 'input_ids', 'attention_mask'],\n",
      "    num_rows: 111\n",
      "})\n",
      "Dataset({\n",
      "    features: ['sms', 'label', 'input_ids', 'attention_mask'],\n",
      "    num_rows: 56\n",
      "})\n"
     ]
    }
   ],
   "source": [
    "# Step 1.2: Tokenize datasets\n",
    "\n",
    "from transformers import AutoTokenizer\n",
    "\n",
    "tokenizer_gpt = AutoTokenizer.from_pretrained(\"gpt2\")\n",
    "tokenizer_gpt.add_special_tokens({'pad_token': '[PAD]'})\n",
    "tokenizer_gpt.pad_token = tokenizer_gpt.eos_token\n",
    "\n",
    "# Let's use a lambda function to tokenize all the examples\n",
    "tokenized_dataset_gpt = {}\n",
    "for split in splits:\n",
    "    tokenized_dataset_gpt[split] = dataset[split].map(\n",
    "        lambda x: tokenizer_gpt(x[\"sms\"], padding=\"max_length\", truncation=True), batched=True,\n",
    "    )\n",
    "\n",
    "# Inspect the available columns in the dataset\n",
    "print(tokenized_dataset_gpt[\"train\"])\n",
    "print(tokenized_dataset_gpt[\"test\"])\n"
   ]
  },
  {
   "cell_type": "code",
   "execution_count": 17,
   "id": "af7116d4-8562-468b-8d21-061d95658d38",
   "metadata": {},
   "outputs": [
    {
     "name": "stderr",
     "output_type": "stream",
     "text": [
      "Some weights of GPT2ForSequenceClassification were not initialized from the model checkpoint at gpt2 and are newly initialized: ['score.weight']\n",
      "You should probably TRAIN this model on a down-stream task to be able to use it for predictions and inference.\n"
     ]
    },
    {
     "name": "stdout",
     "output_type": "stream",
     "text": [
      "GPT2ForSequenceClassification(\n",
      "  (transformer): GPT2Model(\n",
      "    (wte): Embedding(50257, 768)\n",
      "    (wpe): Embedding(1024, 768)\n",
      "    (drop): Dropout(p=0.1, inplace=False)\n",
      "    (h): ModuleList(\n",
      "      (0-11): 12 x GPT2Block(\n",
      "        (ln_1): LayerNorm((768,), eps=1e-05, elementwise_affine=True)\n",
      "        (attn): GPT2Attention(\n",
      "          (c_attn): Conv1D()\n",
      "          (c_proj): Conv1D()\n",
      "          (attn_dropout): Dropout(p=0.1, inplace=False)\n",
      "          (resid_dropout): Dropout(p=0.1, inplace=False)\n",
      "        )\n",
      "        (ln_2): LayerNorm((768,), eps=1e-05, elementwise_affine=True)\n",
      "        (mlp): GPT2MLP(\n",
      "          (c_fc): Conv1D()\n",
      "          (c_proj): Conv1D()\n",
      "          (act): NewGELUActivation()\n",
      "          (dropout): Dropout(p=0.1, inplace=False)\n",
      "        )\n",
      "      )\n",
      "    )\n",
      "    (ln_f): LayerNorm((768,), eps=1e-05, elementwise_affine=True)\n",
      "  )\n",
      "  (score): Linear(in_features=768, out_features=2, bias=False)\n",
      ")\n"
     ]
    }
   ],
   "source": [
    "# Step 1.3: Load pre trained GPT2 Model\n",
    "\n",
    "from transformers import AutoModelForSequenceClassification\n",
    "import torch \n",
    "\n",
    "def get_device_name(): \n",
    "    device_name = \"cpu\"\n",
    "    if torch.cuda.is_available():\n",
    "        device_name = \"cuda\"\n",
    "    elif torch.backends.mps.is_available():\n",
    "        device_name = \"mps\"\n",
    "    return device_name\n",
    "    \n",
    "model_gpt = AutoModelForSequenceClassification.from_pretrained(\n",
    "    \"gpt2\", \n",
    "    num_labels=2,\n",
    "    id2label={0: \"not spam\", 1: \"spam\"},\n",
    "    label2id={\"not spam\": 0, \"spam\": 1},\n",
    ")\n",
    "\n",
    "# Unfreeze all the model parameters.\n",
    "for param in model_gpt.parameters():\n",
    "    param.requires_grad = True\n",
    "\n",
    "# Correct padding token id\n",
    "model_gpt.config.pad_token_id = model_gpt.config.eos_token_id\n",
    "\n",
    "# move the model to current device\n",
    "model_gpt.to(get_device_name())\n",
    "\n",
    "print(model_gpt)"
   ]
  },
  {
   "cell_type": "code",
   "execution_count": 18,
   "id": "f85e7575-5064-4026-b258-8fc855fb18e3",
   "metadata": {},
   "outputs": [
    {
     "name": "stdout",
     "output_type": "stream",
     "text": [
      "Evaluate before finetuning:\n",
      "-------------------------------------\n"
     ]
    },
    {
     "data": {
      "text/html": [
       "\n",
       "    <div>\n",
       "      \n",
       "      <progress value='4' max='4' style='width:300px; height:20px; vertical-align: middle;'></progress>\n",
       "      [4/4 00:03]\n",
       "    </div>\n",
       "    "
      ],
      "text/plain": [
       "<IPython.core.display.HTML object>"
      ]
     },
     "metadata": {},
     "output_type": "display_data"
    },
    {
     "data": {
      "text/plain": [
       "{'eval_loss': 0.4706331789493561,\n",
       " 'eval_accuracy': 0.9107142857142857,\n",
       " 'eval_runtime': 4.9497,\n",
       " 'eval_samples_per_second': 11.314,\n",
       " 'eval_steps_per_second': 0.808}"
      ]
     },
     "execution_count": 18,
     "metadata": {},
     "output_type": "execute_result"
    }
   ],
   "source": [
    "# Step 1.4: Evaluate and check accuracy from the pre-trained GPT2 model\n",
    "\n",
    "import numpy as np\n",
    "from transformers import DataCollatorWithPadding, Trainer, TrainingArguments\n",
    "\n",
    "train_args = TrainingArguments(\n",
    "        output_dir=\"./data/spam_not_spam/peft\",\n",
    "        # Set the learning rate\n",
    "        learning_rate = 2e-5,\n",
    "        # Set the per device train batch size and eval batch size\n",
    "        per_device_train_batch_size = 16,\n",
    "        per_device_eval_batch_size = 16,\n",
    "        # Evaluate and save the model after each epoch\n",
    "        evaluation_strategy = \"epoch\",\n",
    "        save_strategy = \"epoch\",\n",
    "        num_train_epochs=1,\n",
    "        weight_decay=0.01,\n",
    "        load_best_model_at_end=True,\n",
    "    )\n",
    "\n",
    "def compute_metrics(eval_pred):\n",
    "    predictions, labels = eval_pred\n",
    "    predictions = np.argmax(predictions, axis=1)\n",
    "    return {\"accuracy\": (predictions == labels).mean()}\n",
    "\n",
    "def make_trainer_from_model(model): \n",
    "    return Trainer(\n",
    "        model= model,\n",
    "        args= train_args,\n",
    "        train_dataset=tokenized_dataset_gpt[\"train\"],\n",
    "        eval_dataset=tokenized_dataset_gpt[\"test\"],\n",
    "        tokenizer=tokenizer_gpt,\n",
    "        data_collator=DataCollatorWithPadding(tokenizer=tokenizer_gpt),\n",
    "        compute_metrics=compute_metrics,\n",
    "    )\n",
    "    \n",
    "# Create HuggingFace Trainer from the pre-trained GPT2 model \n",
    "trainer = make_trainer_from_model(model_gpt)\n",
    "\n",
    "# Inspect the accuracy before fine tuning\n",
    "print(\"Evaluate before finetuning:\")\n",
    "print(\"-------------------------------------\")\n",
    "trainer.evaluate()\n"
   ]
  },
  {
   "cell_type": "markdown",
   "id": "000b5a56-92be-42c7-a630-a054b3d3b7d4",
   "metadata": {},
   "source": [
    "\n",
    "## Step 2: Performing Parameter-Efficient Fine-Tuning\n"
   ]
  },
  {
   "cell_type": "code",
   "execution_count": 19,
   "id": "51823cbe-4dd3-44a6-9f23-56fc465f8208",
   "metadata": {},
   "outputs": [
    {
     "name": "stdout",
     "output_type": "stream",
     "text": [
      "trainable params: 1,181,184 || all params: 125,622,528 || trainable%: 0.9402644723086611\n"
     ]
    },
    {
     "name": "stderr",
     "output_type": "stream",
     "text": [
      "/Users/x_coder/Library/Python/3.9/lib/python/site-packages/peft/tuners/lora/layer.py:861: UserWarning: fan_in_fan_out is set to False but the target module is `Conv1D`. Setting fan_in_fan_out to True.\n",
      "  warnings.warn(\n"
     ]
    }
   ],
   "source": [
    "# Step 2.1: Convert pre-trained GPT2 model to PEFT model \n",
    "\n",
    "from peft import LoraConfig\n",
    "from peft import get_peft_model\n",
    "from peft import TaskType\n",
    "from peft import AutoPeftModelForSequenceClassification\n",
    "\n",
    "module_list = [\"c_attn\", \"c_proj\", \"c_fc\", \"c_proj\"]\n",
    "config = LoraConfig(task_type=TaskType.SEQ_CLS, \n",
    "                    inference_mode=False, \n",
    "                    r=8, \n",
    "                    lora_alpha=32,\n",
    "                    lora_dropout=0.1,\n",
    "                    target_modules = module_list)\n",
    "\n",
    "lora_model = get_peft_model(model_gpt, config)\n",
    "lora_model.print_trainable_parameters()\n"
   ]
  },
  {
   "cell_type": "code",
   "execution_count": 20,
   "id": "f9ec72a1-d548-48b8-9436-5bc1d7c91c31",
   "metadata": {
    "scrolled": true
   },
   "outputs": [
    {
     "name": "stdout",
     "output_type": "stream",
     "text": [
      "Training starts ...\n"
     ]
    },
    {
     "data": {
      "text/html": [
       "\n",
       "    <div>\n",
       "      \n",
       "      <progress value='7' max='7' style='width:300px; height:20px; vertical-align: middle;'></progress>\n",
       "      [7/7 09:38, Epoch 1/1]\n",
       "    </div>\n",
       "    <table border=\"1\" class=\"dataframe\">\n",
       "  <thead>\n",
       " <tr style=\"text-align: left;\">\n",
       "      <th>Epoch</th>\n",
       "      <th>Training Loss</th>\n",
       "      <th>Validation Loss</th>\n",
       "      <th>Accuracy</th>\n",
       "    </tr>\n",
       "  </thead>\n",
       "  <tbody>\n",
       "    <tr>\n",
       "      <td>1</td>\n",
       "      <td>No log</td>\n",
       "      <td>0.456884</td>\n",
       "      <td>0.910714</td>\n",
       "    </tr>\n",
       "  </tbody>\n",
       "</table><p>"
      ],
      "text/plain": [
       "<IPython.core.display.HTML object>"
      ]
     },
     "metadata": {},
     "output_type": "display_data"
    },
    {
     "name": "stdout",
     "output_type": "stream",
     "text": [
      "Training ends ...\n"
     ]
    }
   ],
   "source": [
    "\n",
    "# Step 2.2: Perform PEFT on pre-trained GPT2 model \n",
    "\n",
    "lora_trainer =  make_trainer_from_model(lora_model)\n",
    "\n",
    "print(\"Training starts ...\")\n",
    "lora_trainer.train()\n",
    "print(\"Training ends ...\")\n"
   ]
  },
  {
   "cell_type": "code",
   "execution_count": 21,
   "id": "304404fa-7f4a-4231-9196-bf95c32ad061",
   "metadata": {},
   "outputs": [],
   "source": [
    "# Step 2.3: Save the fine-tuned model \n",
    "\n",
    "TUNED_MODEL_NAME = \"my_peft_model\"\n",
    "lora_model.save_pretrained(TUNED_MODEL_NAME)\n"
   ]
  },
  {
   "cell_type": "markdown",
   "id": "7b181dc7-774d-46f0-b98e-f229f7e6dbc6",
   "metadata": {},
   "source": [
    "\n",
    "## Step 3: Performing Inference with a PEFT Model\n"
   ]
  },
  {
   "cell_type": "code",
   "execution_count": 27,
   "id": "6d218c93-26a9-4fed-acee-8b2691853941",
   "metadata": {},
   "outputs": [
    {
     "name": "stderr",
     "output_type": "stream",
     "text": [
      "Some weights of GPT2ForSequenceClassification were not initialized from the model checkpoint at gpt2 and are newly initialized: ['score.weight']\n",
      "You should probably TRAIN this model on a down-stream task to be able to use it for predictions and inference.\n"
     ]
    },
    {
     "name": "stdout",
     "output_type": "stream",
     "text": [
      "PeftModelForSequenceClassification(\n",
      "  (base_model): LoraModel(\n",
      "    (model): GPT2ForSequenceClassification(\n",
      "      (transformer): GPT2Model(\n",
      "        (wte): Embedding(50257, 768)\n",
      "        (wpe): Embedding(1024, 768)\n",
      "        (drop): Dropout(p=0.1, inplace=False)\n",
      "        (h): ModuleList(\n",
      "          (0-11): 12 x GPT2Block(\n",
      "            (ln_1): LayerNorm((768,), eps=1e-05, elementwise_affine=True)\n",
      "            (attn): GPT2Attention(\n",
      "              (c_attn): lora.Linear(\n",
      "                (base_layer): Conv1D()\n",
      "                (lora_dropout): ModuleDict(\n",
      "                  (default): Dropout(p=0.1, inplace=False)\n",
      "                )\n",
      "                (lora_A): ModuleDict(\n",
      "                  (default): Linear(in_features=768, out_features=8, bias=False)\n",
      "                )\n",
      "                (lora_B): ModuleDict(\n",
      "                  (default): Linear(in_features=8, out_features=2304, bias=False)\n",
      "                )\n",
      "                (lora_embedding_A): ParameterDict()\n",
      "                (lora_embedding_B): ParameterDict()\n",
      "              )\n",
      "              (c_proj): lora.Linear(\n",
      "                (base_layer): Conv1D()\n",
      "                (lora_dropout): ModuleDict(\n",
      "                  (default): Dropout(p=0.1, inplace=False)\n",
      "                )\n",
      "                (lora_A): ModuleDict(\n",
      "                  (default): Linear(in_features=768, out_features=8, bias=False)\n",
      "                )\n",
      "                (lora_B): ModuleDict(\n",
      "                  (default): Linear(in_features=8, out_features=768, bias=False)\n",
      "                )\n",
      "                (lora_embedding_A): ParameterDict()\n",
      "                (lora_embedding_B): ParameterDict()\n",
      "              )\n",
      "              (attn_dropout): Dropout(p=0.1, inplace=False)\n",
      "              (resid_dropout): Dropout(p=0.1, inplace=False)\n",
      "            )\n",
      "            (ln_2): LayerNorm((768,), eps=1e-05, elementwise_affine=True)\n",
      "            (mlp): GPT2MLP(\n",
      "              (c_fc): lora.Linear(\n",
      "                (base_layer): Conv1D()\n",
      "                (lora_dropout): ModuleDict(\n",
      "                  (default): Dropout(p=0.1, inplace=False)\n",
      "                )\n",
      "                (lora_A): ModuleDict(\n",
      "                  (default): Linear(in_features=768, out_features=8, bias=False)\n",
      "                )\n",
      "                (lora_B): ModuleDict(\n",
      "                  (default): Linear(in_features=8, out_features=3072, bias=False)\n",
      "                )\n",
      "                (lora_embedding_A): ParameterDict()\n",
      "                (lora_embedding_B): ParameterDict()\n",
      "              )\n",
      "              (c_proj): lora.Linear(\n",
      "                (base_layer): Conv1D()\n",
      "                (lora_dropout): ModuleDict(\n",
      "                  (default): Dropout(p=0.1, inplace=False)\n",
      "                )\n",
      "                (lora_A): ModuleDict(\n",
      "                  (default): Linear(in_features=3072, out_features=8, bias=False)\n",
      "                )\n",
      "                (lora_B): ModuleDict(\n",
      "                  (default): Linear(in_features=8, out_features=768, bias=False)\n",
      "                )\n",
      "                (lora_embedding_A): ParameterDict()\n",
      "                (lora_embedding_B): ParameterDict()\n",
      "              )\n",
      "              (act): NewGELUActivation()\n",
      "              (dropout): Dropout(p=0.1, inplace=False)\n",
      "            )\n",
      "          )\n",
      "        )\n",
      "        (ln_f): LayerNorm((768,), eps=1e-05, elementwise_affine=True)\n",
      "      )\n",
      "      (score): ModulesToSaveWrapper(\n",
      "        (original_module): Linear(in_features=768, out_features=2, bias=False)\n",
      "        (modules_to_save): ModuleDict(\n",
      "          (default): Linear(in_features=768, out_features=2, bias=False)\n",
      "        )\n",
      "      )\n",
      "    )\n",
      "  )\n",
      ")\n"
     ]
    }
   ],
   "source": [
    "# Step 3.1: Load the fine-tuned model \n",
    "\n",
    "# load newly fine-tuned model\n",
    "tuned_model = AutoPeftModelForSequenceClassification.from_pretrained(TUNED_MODEL_NAME)\n",
    "print(tuned_model)"
   ]
  },
  {
   "cell_type": "code",
   "execution_count": 29,
   "id": "e1641f9d-55e4-45ee-9160-7e63d429bd5a",
   "metadata": {},
   "outputs": [
    {
     "data": {
      "text/html": [
       "\n",
       "    <div>\n",
       "      \n",
       "      <progress value='4' max='4' style='width:300px; height:20px; vertical-align: middle;'></progress>\n",
       "      [4/4 00:07]\n",
       "    </div>\n",
       "    "
      ],
      "text/plain": [
       "<IPython.core.display.HTML object>"
      ]
     },
     "metadata": {},
     "output_type": "display_data"
    },
    {
     "name": "stdout",
     "output_type": "stream",
     "text": [
      "{'eval_loss': 0.4568840563297272, 'eval_accuracy': 0.9107142857142857, 'eval_runtime': 12.4306, 'eval_samples_per_second': 4.505, 'eval_steps_per_second': 0.322}\n"
     ]
    }
   ],
   "source": [
    "\n",
    "# Step 3.2: Evaluate and check the fine-tuned model's accuracy\n",
    "\n",
    "# Correct pading token id\n",
    "tuned_model.config.pad_token_id = model_gpt.config.eos_token_id\n",
    "\n",
    "tuned_trainer = make_trainer_from_model(tuned_model)\n",
    "\n",
    "# get fine-tuned evaulation results\n",
    "results = tuned_trainer.evaluate()\n",
    "print(results)\n"
   ]
  },
  {
   "cell_type": "code",
   "execution_count": null,
   "id": "31657616-69dd-4dc4-af1b-4a08c99b6c62",
   "metadata": {},
   "outputs": [],
   "source": []
  }
 ],
 "metadata": {
  "kernelspec": {
   "display_name": "Python 3 (ipykernel)",
   "language": "python",
   "name": "python3"
  },
  "language_info": {
   "codemirror_mode": {
    "name": "ipython",
    "version": 3
   },
   "file_extension": ".py",
   "mimetype": "text/x-python",
   "name": "python",
   "nbconvert_exporter": "python",
   "pygments_lexer": "ipython3",
   "version": "3.9.6"
  }
 },
 "nbformat": 4,
 "nbformat_minor": 5
}
